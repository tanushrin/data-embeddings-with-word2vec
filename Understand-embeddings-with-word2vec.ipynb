{
 "cells": [
  {
   "cell_type": "markdown",
   "metadata": {},
   "source": [
    "# Understand embeddings with Word2Vec"
   ]
  },
  {
   "cell_type": "markdown",
   "metadata": {},
   "source": [
    "### Exercise objectives:\n",
    "- Convert 🔠 words to 🔢 vector representations thanks to embeddings\n",
    "- Discover the powerful Word2Vec algorithm\n",
    "\n",
    "<hr>\n",
    "\n",
    "_Embeddings_ are representations of words using vectors. These embeddings can be learned within a Neural Network. But it can take time to converge. Another option is to learn them as a first step. Then, use them directly to feed the word representations into a Recurrent Neural Network. "
   ]
  },
  {
   "cell_type": "markdown",
   "metadata": {},
   "source": [
    "▶️ Run this cell and make sure the version of 📚 [Gensim - Word2Vec](https://radimrehurek.com/gensim/auto_examples/index.html) you are using is ≥ 4.0!"
   ]
  },
  {
   "cell_type": "code",
   "execution_count": 1,
   "metadata": {},
   "outputs": [
    {
     "name": "stdout",
     "output_type": "stream",
     "text": [
      "gensim==4.2.0\n"
     ]
    }
   ],
   "source": [
    "!pip freeze | grep gensim\n"
   ]
  },
  {
   "cell_type": "code",
   "execution_count": 2,
   "metadata": {},
   "outputs": [
    {
     "name": "stdout",
     "output_type": "stream",
     "text": [
      "tensorflow==2.14.0\n",
      "tensorflow-datasets==4.6.0\n",
      "tensorflow-estimator==2.14.0\n",
      "tensorflow-io-gcs-filesystem==0.27.0\n",
      "tensorflow-metadata==1.10.0\n"
     ]
    }
   ],
   "source": [
    "!pip freeze | grep tensorflow\n"
   ]
  },
  {
   "cell_type": "markdown",
   "metadata": {},
   "source": [
    "# The data"
   ]
  },
  {
   "cell_type": "markdown",
   "metadata": {},
   "source": [
    "Keras provides many datasets, among which is the IMDB dataset 🎬:\n",
    "- It is comprised of sentences that are ***movie reviews***. \n",
    "- Each of these reviews is related to a score given by the reviewer.\n",
    "\n",
    "❓ **Question** ❓ First of all, let's load the data. You don't have to understand what is going on in the function, it does not matter here.\n",
    "\n",
    "⚠️ **Warning** ⚠️ The `load_data` function has a `percentage_of_sentences` argument. Depending on your computer, there are chances that too many sentences will make your compute slow down, or even freeze - your RAM can overflow. For that reason, **you should start with 10% of the sentences** and see if your computer can handle it. Otherwise, rerun with a lower number.  \n",
    "\n",
    "⚠️ **DISCLAIMER** ⚠️ **No need to play _who has the biggest_ (RAM) !** The idea is to get to run your models quickly to prototype. Even in real life, it is recommended that you start with a subset of your data to loop and debug quickly. So increase the number only if you are into getting the best accuracy. "
   ]
  },
  {
   "cell_type": "code",
   "execution_count": 41,
   "metadata": {},
   "outputs": [],
   "source": [
    "###########################################\n",
    "### Just run this cell to load the data ###\n",
    "###########################################\n",
    "\n",
    "import tensorflow_datasets as tfds\n",
    "from tensorflow.keras.preprocessing.text import text_to_word_sequence\n",
    "\n",
    "def load_data(percentage_of_sentences=None):\n",
    "    train_data, test_data = tfds.load(name=\"imdb_reviews\", split=[\"train\", \"test\"], batch_size=-1, as_supervised=True)\n",
    "\n",
    "    train_sentences, y_train = tfds.as_numpy(train_data)\n",
    "    test_sentences, y_test = tfds.as_numpy(test_data)\n",
    "\n",
    "    # Take only a given percentage of the entire data\n",
    "    if percentage_of_sentences is not None:\n",
    "        assert(percentage_of_sentences> 0 and percentage_of_sentences<=100)\n",
    "\n",
    "        len_train = int(percentage_of_sentences/100*len(train_sentences))\n",
    "        train_sentences, y_train = train_sentences[:len_train], y_train[:len_train]\n",
    "\n",
    "        len_test = int(percentage_of_sentences/100*len(test_sentences))\n",
    "        test_sentences, y_test = test_sentences[:len_test], y_test[:len_test]\n",
    "\n",
    "    X_train = [text_to_word_sequence(_.decode(\"utf-8\")) for _ in train_sentences]\n",
    "    X_test = [text_to_word_sequence(_.decode(\"utf-8\")) for _ in test_sentences]\n",
    "\n",
    "    return X_train, y_train, X_test, y_test\n",
    "\n",
    "X_train, y_train, X_test, y_test = load_data(percentage_of_sentences=10)\n"
   ]
  },
  {
   "cell_type": "markdown",
   "metadata": {},
   "source": [
    "<b><u>Embeddings in the previous challenge</u></b>:\n",
    "\n",
    "In the previous exercise, we jointly learned a representation for the words, and fed this representation to a RNN, as shown down below 👇: \n",
    "\n",
    "<img src=\"layers_embedding.png\" width=\"400px\" />\n",
    "\n",
    "However, this increases the number of parameters to learn, which slows down and increases the difficulty of convergence!"
   ]
  },
  {
   "cell_type": "markdown",
   "metadata": {},
   "source": [
    "<b><u>Embeddings in the current challenge</u></b>:\n",
    "\n",
    "For this reason, we will separate the steps of learning the word representation and feeding it into a RNN. As shown here: \n",
    "\n",
    "<img src=\"word2vec_representation.png\" width=\"400px\" />\n",
    "\n",
    "We will learn the embedding with Word2Vec.\n",
    "\n",
    "The drawback is indeed that the learned embeddings are not _specifically_ designed for our task. However, learning them independently of the task at hand (sentiment analysis) has some advantages: \n",
    "- it is very fast to do in general (with Word2Vec)\n",
    "- the representation learned by Word2Vec is still meaningful \n",
    "- the convergence of the RNN alone will be easier and faster\n",
    "\n",
    "So let's learn an embedding with Word2Vec and see how meaningful it is!"
   ]
  },
  {
   "cell_type": "markdown",
   "metadata": {},
   "source": [
    "# Embedding with Word2Vec"
   ]
  },
  {
   "cell_type": "markdown",
   "metadata": {},
   "source": [
    "Let's use Word2Vec to embed the words of our sentences. Word2Vec will be able to convert each word to a fixed-size vectorial representation.\n",
    "\n",
    "For instance, we will have:\n",
    "- 🐶 _dog_ $\\rightarrow$ [0.1, -0.3, 0.8]\n",
    "- 🐱 _cat_ $\\rightarrow$ [-1.1, 2.3, 0.7]\n",
    "- 🍏 _apple_ $\\rightarrow$ [3.1, 0.9, -4.7]\n",
    "\n",
    "Here, your embedding space is of size 3.\n",
    "\n",
    "***What is a \"good\" numerical representation of words?***\n",
    "\n",
    "- ***Words with close meanings should be geometrically close in your embedding space!***\n",
    "\n",
    "    - Look at the following example which represents a bi-dimensional embedding space.\n",
    "\n",
    "![Embedding](word_embedding.png)"
   ]
  },
  {
   "cell_type": "markdown",
   "metadata": {},
   "source": [
    "❓ **Question** ❓ Let's run Word2Vec! \n",
    "\n",
    "[📚 **Gensim**](https://radimrehurek.com/gensim/)  is a great Python package that makes the use of the Word2Vec algorithm easy to implement, fast and accurate (which is not an easy task!).\n",
    "\n",
    "1. The following code imports Word2Vec from Gensim. \n",
    "\n",
    "2. The second line learns the embedding representation of the words thanks to the sentences in `X_train`. \n",
    "3. The third line stores the words and their trained embeddings in `wv`."
   ]
  },
  {
   "cell_type": "code",
   "execution_count": 4,
   "metadata": {
    "tags": []
   },
   "outputs": [],
   "source": [
    "from gensim.models import Word2Vec\n",
    "\n",
    "word2vec = Word2Vec(sentences=X_train)\n",
    "wv = word2vec.wv\n"
   ]
  },
  {
   "cell_type": "markdown",
   "metadata": {},
   "source": [
    "Let's look at the embedded representation of some words.\n",
    "\n",
    "You can use `wv` as a dictionary.\n",
    "For instance, `wv['dog']` will return a representation of `dog` in the embedding space."
   ]
  },
  {
   "cell_type": "markdown",
   "metadata": {},
   "source": [
    "❓ **Question** ❓ Try different words - especially, try non-existing words to see that they don't have any representation (which is perfectly normal as their representation was not learned). "
   ]
  },
  {
   "cell_type": "code",
   "execution_count": 5,
   "metadata": {
    "tags": [
     "challengify"
    ]
   },
   "outputs": [
    {
     "name": "stdout",
     "output_type": "stream",
     "text": [
      "[-0.1807609   0.12769982 -0.17605834  0.2061899  -0.05267848 -0.26463073\n",
      " -0.01981148  0.5002563  -0.15181302 -0.19214714 -0.01314572 -0.3154129\n",
      " -0.09925079  0.13974877 -0.04145002 -0.17530979  0.13688336 -0.2720389\n",
      "  0.00509825 -0.230468    0.1581642   0.09465405  0.27702    -0.09574915\n",
      " -0.00237179  0.03472857 -0.23945391 -0.07685608 -0.1437299   0.0292024\n",
      "  0.18173957 -0.03956065  0.14912914 -0.3922356  -0.1501962   0.20316167\n",
      "  0.17636544 -0.17654577 -0.23681407 -0.29936427 -0.13571756 -0.29030395\n",
      " -0.28932533  0.17151712  0.31663138 -0.03468932 -0.147574   -0.09494804\n",
      "  0.25056407  0.19523892  0.06924687 -0.22742666 -0.21184343 -0.02924782\n",
      " -0.25812286  0.22659038  0.18011476 -0.08477756 -0.18579109  0.03626899\n",
      "  0.1141214  -0.00855926  0.00271248  0.04082457 -0.22036088  0.19351278\n",
      " -0.04424405  0.19806731 -0.32195833  0.28096482 -0.21860376  0.25815845\n",
      "  0.2991817  -0.22555205  0.3462212   0.18995056 -0.03058701  0.11056656\n",
      " -0.19212234 -0.11652802 -0.2415831  -0.21730924 -0.24307959  0.25704354\n",
      " -0.17048214 -0.22126879 -0.03403326  0.3023337   0.2646076   0.11794557\n",
      "  0.15653427  0.31867704 -0.05367865  0.05850372  0.47115666  0.13443746\n",
      "  0.259961   -0.1494891   0.06658132  0.02790663]\n"
     ]
    }
   ],
   "source": [
    "# YOUR CODE HERE\n",
    "# print wv['dog']\n",
    "print(wv['dog'])\n"
   ]
  },
  {
   "cell_type": "code",
   "execution_count": 7,
   "metadata": {},
   "outputs": [],
   "source": [
    "#wv['cupboard']\n"
   ]
  },
  {
   "cell_type": "markdown",
   "metadata": {},
   "source": [
    "❓ **Question** ❓ What is the size of each word representation, and therefore, what is the size of the embedding space?"
   ]
  },
  {
   "cell_type": "code",
   "execution_count": 9,
   "metadata": {
    "tags": [
     "challengify"
    ]
   },
   "outputs": [
    {
     "name": "stdout",
     "output_type": "stream",
     "text": [
      "100\n",
      "(8006, 100)\n"
     ]
    }
   ],
   "source": [
    "# YOUR CODE HERE\n",
    "# What is the size of each word vector?\n",
    "\n",
    "print(wv.vector_size)\n",
    "\n",
    "# What is the size of the embedding matrix?\n",
    "print(wv.vectors.shape)\n"
   ]
  },
  {
   "cell_type": "markdown",
   "metadata": {},
   "source": [
    "🧐 How do we know whether this embedding make any sense or not? \n",
    "\n",
    "💡 To investigate this question, we will check that words with a close meaning have close representations. \n",
    "\n",
    "👉 Let's use the [**`Word2Vec.wv.most_similar`**](https://radimrehurek.com/gensim/models/keyedvectors.html#gensim.models.keyedvectors.KeyedVectors.most_similar) method that, given an input word, displays the \"closest\" words in the embedding space. If the embedding is well done, then words with similar meanings will have similar representation in the embedding space."
   ]
  },
  {
   "cell_type": "markdown",
   "metadata": {},
   "source": [
    "❓ **Question** ❓ Try out the `most_similar` method on different words. \n",
    "\n",
    "🧑🏿‍🏫 The quality of the closeness will depend on the quality of your embedding, and thus, depend on the number of sentences that you have loaded and from which you create your embedding."
   ]
  },
  {
   "cell_type": "code",
   "execution_count": 11,
   "metadata": {
    "tags": [
     "challengify"
    ]
   },
   "outputs": [
    {
     "data": {
      "text/plain": [
       "[('rush', 0.988609254360199),\n",
       " ('bill', 0.9883005023002625),\n",
       " ('passion', 0.9875573515892029),\n",
       " (\"stewart's\", 0.9875152707099915),\n",
       " ('clean', 0.9872452020645142),\n",
       " ('lower', 0.9871172308921814),\n",
       " ('river', 0.9866034388542175),\n",
       " ('costume', 0.9864587187767029),\n",
       " ('ill', 0.9861650466918945),\n",
       " ('prize', 0.9860702753067017)]"
      ]
     },
     "execution_count": 11,
     "metadata": {},
     "output_type": "execute_result"
    }
   ],
   "source": [
    "# YOUR CODE HERE\n",
    "# Use 'most_similar' to find the word most similar to 'dog'\n",
    "wv.most_similar('dog')\n"
   ]
  },
  {
   "cell_type": "markdown",
   "metadata": {},
   "source": [
    "📚 Similarly to `most_similar` used on words directly, we can use [**`similar_by_vector`**](https://radimrehurek.com/gensim/models/keyedvectors.html#gensim.models.keyedvectors.KeyedVectors.similar_by_vector) on vectors to do the same thing:"
   ]
  },
  {
   "cell_type": "code",
   "execution_count": 12,
   "metadata": {
    "tags": [
     "challengify"
    ]
   },
   "outputs": [
    {
     "data": {
      "text/plain": [
       "[('dog', 0.9999999403953552),\n",
       " ('rush', 0.988609254360199),\n",
       " ('bill', 0.9883005023002625),\n",
       " ('passion', 0.9875574111938477),\n",
       " (\"stewart's\", 0.9875153303146362),\n",
       " ('clean', 0.9872452020645142),\n",
       " ('lower', 0.987117350101471),\n",
       " ('river', 0.9866034984588623),\n",
       " ('costume', 0.9864587187767029),\n",
       " ('ill', 0.9861650466918945)]"
      ]
     },
     "execution_count": 12,
     "metadata": {},
     "output_type": "execute_result"
    }
   ],
   "source": [
    "# YOUR CODE HERE\n",
    "# Use 'smiliar_by_vector' to find the word most similar to the vector of 'dog'\n",
    "wv.similar_by_vector(wv['dog'])\n"
   ]
  },
  {
   "cell_type": "markdown",
   "metadata": {},
   "source": [
    "# Arithmetic on words"
   ]
  },
  {
   "cell_type": "markdown",
   "metadata": {},
   "source": [
    "Now, let's perform some mathematical operations on words, i.e. on their vector representations!\n",
    "\n",
    "As any learned word is represented as a vector, you can do basic arithmetic operations, such as:\n",
    "\n",
    "$$W2V(good) - W2V(bad)$$"
   ]
  },
  {
   "cell_type": "markdown",
   "metadata": {},
   "source": [
    "❓ **Question** ❓ Do this mathematical operation and print the result"
   ]
  },
  {
   "cell_type": "code",
   "execution_count": 15,
   "metadata": {
    "tags": [
     "challengify"
    ]
   },
   "outputs": [
    {
     "data": {
      "text/plain": [
       "array([ 0.05886775, -0.07186022,  0.37115338,  0.2835915 , -0.04340583,\n",
       "       -0.24898052, -0.51747835, -0.25909904, -0.05218339, -0.41355294,\n",
       "        0.35448787,  0.03166044,  0.04046917, -0.05695003, -0.16919258,\n",
       "        0.4633193 , -0.4130486 ,  0.20511317, -0.23094416,  0.20303047,\n",
       "       -0.02060062,  0.2248916 ,  0.15179539, -0.02956577,  0.04279265,\n",
       "       -0.07933415, -0.17793247,  0.44407427, -0.17318669, -0.68467826,\n",
       "       -0.43308544,  0.13790482,  0.52642554,  0.38015246, -0.07976386,\n",
       "       -0.26527357,  0.5955947 , -0.3521803 , -0.2522175 ,  0.86343646,\n",
       "       -0.20212317, -0.0539411 , -0.53172755, -0.20288873,  0.3832693 ,\n",
       "       -0.12520862,  0.5273888 , -0.12270051, -0.15378812,  0.4166784 ,\n",
       "       -0.16189575, -0.05676588, -0.79324466, -0.04605806,  0.04394685,\n",
       "        0.36722082,  0.0979647 , -0.06183581,  0.21457976,  0.37524807,\n",
       "        0.16584033,  0.22955549, -0.09073424, -0.5127964 ,  0.09894633,\n",
       "        0.10052121, -0.38674366, -0.19894192,  0.4622585 ,  0.32085308,\n",
       "       -0.70813394, -0.2957456 ,  0.2737901 ,  0.28173935, -0.3229993 ,\n",
       "       -0.04156843, -0.07184835, -0.30755177,  0.04917841, -0.01635846,\n",
       "        0.37232044, -0.3108911 , -0.37654418,  0.2776183 , -0.46828088,\n",
       "        0.4765772 , -0.11890936, -0.12287903,  0.36949712, -0.499938  ,\n",
       "       -0.75386035,  0.03850819, -0.03001159,  0.5442904 , -0.23148662,\n",
       "       -0.22461033,  0.3459739 ,  0.5111417 , -0.889816  , -0.10167056],\n",
       "      dtype=float32)"
      ]
     },
     "execution_count": 15,
     "metadata": {},
     "output_type": "execute_result"
    }
   ],
   "source": [
    "# YOUR CODE HERE\n",
    "wv['good'] - wv['bad']\n"
   ]
  },
  {
   "cell_type": "markdown",
   "metadata": {},
   "source": [
    "Now, imagine for a second that the following equality holds true:\n",
    "\n",
    "$$W2V(good) - W2V(bad) = W2V(nice) - W2V(stupid)$$\n",
    "\n",
    "which is equivalent to:\n",
    "\n",
    "$$W2V(good) - W2V(bad) + W2V(stupid) = W2V(nice)$$"
   ]
  },
  {
   "cell_type": "markdown",
   "metadata": {},
   "source": [
    "❓ **Question** ❓ Let's, just for fun (as it would be bold of us to think that this equality holds true ...), do the operation $W2V(good) - W2V(bad) + W2V(stupid)$ and store it in a `res` variable (which will be a vector of size 100 that you can print)."
   ]
  },
  {
   "cell_type": "code",
   "execution_count": 16,
   "metadata": {
    "tags": [
     "challengify"
    ]
   },
   "outputs": [
    {
     "name": "stdout",
     "output_type": "stream",
     "text": [
      "[ 0.06953676 -0.09467506  0.43623865  0.00987467 -0.01712451 -0.73825186\n",
      " -0.70005804  0.26255175 -0.5294615  -0.66792965  0.09779644 -0.3705289\n",
      "  0.2920062   0.26189497  0.00480662  0.09785622  0.02266145 -0.36091697\n",
      " -0.3961057  -0.6740526   0.47316214  0.15383987  0.9383228  -0.18224669\n",
      " -0.01497594 -0.24352176 -0.467263    0.30711251 -0.34705573 -0.5927397\n",
      "  0.2559089   0.19441868  0.7251208   0.00692233 -0.25705904  0.2723258\n",
      "  0.51978415 -0.16299504 -0.3977876   0.17542905 -0.16315521 -0.56362987\n",
      " -0.5030546   0.23976141  0.5472778  -0.12910497  0.27677852 -0.44655442\n",
      " -0.25359964  0.6052507  -0.00683634 -0.16102584 -0.8627241   0.2387085\n",
      "  0.03431186  0.58467263  0.17540804  0.007225   -0.4136986  -0.05649191\n",
      "  0.0762137  -0.07865506  0.1154888  -0.13917065 -0.3545383   0.56989974\n",
      " -0.10137194 -0.0415446   0.21670914  0.42947024 -0.60981095  0.07538119\n",
      "  0.34024698  0.45974797  0.43128902  0.02855864 -0.02130335 -0.4279337\n",
      " -0.1777214   0.14248966  0.3239048  -0.5249394  -0.76764715  0.7078947\n",
      " -0.68214905  0.33238596  0.19933611 -0.00228226  0.6018357  -0.04949254\n",
      "  0.01374018  0.19662187 -0.0376124   0.49002475  0.55817217  0.34470165\n",
      "  0.33818194  0.08806455 -0.66087604 -0.5391917 ]\n"
     ]
    }
   ],
   "source": [
    "# YOUR CODE HERE\n",
    "res = wv['good'] - wv['bad'] + wv['stupid']\n",
    "\n",
    "print(res)\n"
   ]
  },
  {
   "cell_type": "markdown",
   "metadata": {},
   "source": [
    "We said earlier, that for any vector it is possible to see the closest vectors in the embedding space."
   ]
  },
  {
   "cell_type": "markdown",
   "metadata": {},
   "source": [
    "❓ **Question** ❓ Look at the closest vectors of `res`\n",
    "\n",
    "💡 _Hint_: `similar_by_vector`"
   ]
  },
  {
   "cell_type": "code",
   "execution_count": 17,
   "metadata": {
    "tags": [
     "challengify"
    ]
   },
   "outputs": [
    {
     "data": {
      "text/plain": [
       "[('nice', 0.7842668890953064),\n",
       " ('great', 0.7573084235191345),\n",
       " ('decent', 0.7475720047950745),\n",
       " ('baldwin', 0.7323789000511169),\n",
       " ('good', 0.7286096811294556),\n",
       " ('gunslinger', 0.7187718749046326),\n",
       " ('alexandra', 0.7180507779121399),\n",
       " ('potential', 0.7149003744125366),\n",
       " ('wonderful', 0.712282121181488),\n",
       " ('written', 0.7061649560928345)]"
      ]
     },
     "execution_count": 17,
     "metadata": {},
     "output_type": "execute_result"
    }
   ],
   "source": [
    "# YOUR CODE HERE\n",
    "# Closest vectors of 'res'\n",
    "wv.similar_by_vector(res)\n"
   ]
  },
  {
   "cell_type": "markdown",
   "metadata": {},
   "source": [
    "Incredible right! You can do arithmetic operations on words!\n",
    "\n",
    "❓ **Question** ❓ You can try on arithmetic such as \n",
    "\n",
    "$$W2V(Boy) - W2V(Girl) = W2V(Man) - W2V(Woman)$$\n",
    "\n",
    "or \n",
    "\n",
    "$$W2V(Queen) - W2V(King) = W2V(actress) - W2V(actor)$$\n",
    "\n",
    "❗ **Remark** ❗ You will probably see that the results are not perfect. But don't forget that you trained your model on a very small corpus."
   ]
  },
  {
   "cell_type": "code",
   "execution_count": 20,
   "metadata": {
    "tags": [
     "challengify"
    ]
   },
   "outputs": [
    {
     "data": {
      "text/plain": [
       "array([False, False, False, False, False, False, False, False, False,\n",
       "       False, False, False, False, False, False, False, False, False,\n",
       "       False, False, False, False, False, False, False, False, False,\n",
       "       False, False, False, False, False, False, False, False, False,\n",
       "       False, False, False, False, False, False, False, False, False,\n",
       "       False, False, False, False, False, False, False, False, False,\n",
       "       False, False, False, False, False, False, False, False, False,\n",
       "       False, False, False, False, False, False, False, False, False,\n",
       "       False, False, False, False, False, False, False, False, False,\n",
       "       False, False, False, False, False, False, False, False, False,\n",
       "       False, False, False, False, False, False, False, False, False,\n",
       "       False])"
      ]
     },
     "execution_count": 20,
     "metadata": {},
     "output_type": "execute_result"
    }
   ],
   "source": [
    "# YOUR CODE HERE\n",
    "wv['boy'] - wv['girl'] == wv['man'] - wv['woman']\n"
   ]
  },
  {
   "cell_type": "code",
   "execution_count": 21,
   "metadata": {},
   "outputs": [
    {
     "data": {
      "text/plain": [
       "array([False, False, False, False, False, False, False, False, False,\n",
       "       False, False, False, False, False, False, False, False, False,\n",
       "       False, False, False, False, False, False, False, False, False,\n",
       "       False, False, False, False, False, False, False, False, False,\n",
       "       False, False, False, False, False, False, False, False, False,\n",
       "       False, False, False, False, False, False, False, False, False,\n",
       "       False, False, False, False, False, False, False, False, False,\n",
       "       False, False, False, False, False, False, False, False, False,\n",
       "       False, False, False, False, False, False, False, False, False,\n",
       "       False, False, False, False, False, False, False, False, False,\n",
       "       False, False, False, False, False, False, False, False, False,\n",
       "       False])"
      ]
     },
     "execution_count": 21,
     "metadata": {},
     "output_type": "execute_result"
    }
   ],
   "source": [
    "# YOUR CODE HERE\n",
    "wv['queen'] - wv['king'] == wv['actress'] - wv['actor']\n"
   ]
  },
  {
   "cell_type": "markdown",
   "metadata": {},
   "source": [
    "<u><i>Some notes about Word2Vec as an internal Neural Network</i></u>:\n",
    "\n",
    "You might wonder where does this magic comes from (at quite a low price, you just ran a line of code on a very small corpus and it was trained within few minutes). The magic comes from the way Word2Vec is trained. The details are quite complex, but you can remember that Word2vec, in `word2vec = Word2Vec(sentences=X_train)`, actually trains a internal neural network (that you don't see).  \n",
    "\n",
    "In a nutshell, this internal neural network predicts a word from the surroundings words in a sentences. Hence, it splits the original sentences, then for each split it chooses some words as inputs $X$ and a word as the output $y$ which it tries to predict, using the embedding space.\n",
    "\n",
    "And as with any neural network, Word2Vec has some hyperparameters. Let's play with some of these. "
   ]
  },
  {
   "cell_type": "markdown",
   "metadata": {},
   "source": [
    "# Word2Vec hyperparameters"
   ]
  },
  {
   "cell_type": "markdown",
   "metadata": {},
   "source": [
    "❓ **Question** ❓ The first important hyperparameter is the `vector_size` argument. It corresponds to the size of the embedding space. Learn a new `word2vec_2` model, still trained on the `X_train`, but with a smaller or higher `vector_size`.\n",
    "\n",
    "Verify on some words that the embedding size is the one you chose."
   ]
  },
  {
   "cell_type": "code",
   "execution_count": 23,
   "metadata": {
    "tags": [
     "challengify"
    ]
   },
   "outputs": [
    {
     "name": "stdout",
     "output_type": "stream",
     "text": [
      "[ 1.66596733e-02  1.16798468e-01  1.34215914e-02  5.00389189e-02\n",
      " -3.50943953e-02 -1.43386200e-01  7.99065232e-02  3.68036300e-01\n",
      "  1.04097417e-02 -1.06635757e-01  1.31734237e-01 -8.36066827e-02\n",
      " -3.31561528e-02  5.18345162e-02 -1.04472205e-01 -1.73157424e-01\n",
      "  1.66895688e-01 -1.47067159e-01  1.39329001e-01 -2.41691303e-02\n",
      " -8.90183151e-02 -1.26114264e-02  8.18925649e-02  7.88917467e-02\n",
      "  1.55001327e-01 -2.71258614e-04 -2.49591574e-01 -5.04155159e-02\n",
      " -6.89708740e-02 -1.61733299e-01 -1.05394050e-03 -4.44410555e-02\n",
      "  1.72393490e-02  3.30980085e-02 -8.71504471e-02  9.81528535e-02\n",
      "  5.96156679e-02 -2.96268970e-01 -7.45447427e-02  4.16836627e-02\n",
      " -3.75565104e-02  1.07706733e-01  1.30054196e-02 -1.16639055e-01\n",
      "  8.29285458e-02  2.13842347e-01 -1.82461198e-02  1.00964159e-02\n",
      " -3.62771414e-02  1.85983628e-01  6.65237904e-02  1.67970862e-02\n",
      " -8.41313079e-02  1.48735523e-01 -1.89405624e-02  1.21222004e-01\n",
      "  1.75024904e-02 -4.45172898e-02 -1.39016584e-02  2.73078699e-02\n",
      " -2.02724300e-02 -3.92596237e-02  4.02319292e-03  9.14356112e-02\n",
      " -5.69448024e-02  3.87007445e-02  2.94229425e-02  7.79136596e-03\n",
      " -1.25355616e-01 -6.88362941e-02 -7.51224086e-02  2.10670516e-01\n",
      "  1.37735888e-01 -1.90237388e-01 -3.54678258e-02  3.37066874e-02\n",
      " -1.28093436e-01  1.00362711e-02 -1.07281201e-01  1.73508525e-01\n",
      " -1.28303524e-02 -1.92131430e-01 -2.84610491e-04  3.36011529e-01\n",
      " -1.67655870e-02  2.14420818e-02 -8.78157541e-02  2.45186128e-02\n",
      "  1.66717634e-01  2.72211172e-02  1.23482116e-01 -4.45548929e-02\n",
      "  1.17561266e-01  7.88841322e-02  7.52912313e-02  1.38157383e-01\n",
      "  9.33243558e-02 -9.43432301e-02 -7.55456910e-02  9.43157449e-02\n",
      " -4.11127321e-02 -1.56767100e-01  1.08893342e-01  6.70706737e-04\n",
      "  1.14198402e-02 -2.07479164e-01 -2.95622926e-03  3.41460966e-02\n",
      " -1.68607607e-01  2.72845421e-02 -1.49220347e-01 -6.07612096e-02\n",
      "  2.79239025e-02  1.77752912e-01  1.40538648e-01  9.70183685e-02\n",
      " -5.98424599e-02 -2.43892670e-02  2.64150292e-01 -9.44496319e-02\n",
      "  3.13773528e-02  9.00285840e-02  1.44362733e-01 -1.43364687e-02\n",
      " -6.33691847e-02  1.08354710e-01  3.81959938e-02 -5.00052460e-02\n",
      "  9.96828172e-03  7.44347721e-02  1.72685981e-01  2.05673471e-01\n",
      "  1.07814766e-01 -2.19549045e-01  1.14684999e-01  1.27406389e-01\n",
      " -3.23091112e-02 -1.40624372e-02 -1.55864760e-01 -1.53762266e-01\n",
      "  3.05029433e-02 -1.89244539e-01 -1.50192589e-01  9.89195183e-02\n",
      "  8.96863043e-02 -7.52286687e-02 -2.36633956e-01 -6.78276792e-02\n",
      "  2.79798508e-02 -6.69782609e-02 -3.54579557e-03 -2.73351490e-01\n",
      " -9.64081660e-02 -8.22378621e-02 -6.64905412e-03  1.23291790e-01\n",
      " -8.80383030e-02 -8.47896785e-02 -9.07011256e-02  2.52916455e-01\n",
      "  4.04885747e-02  2.08267376e-01 -2.44983107e-01  1.52319491e-01\n",
      " -1.19260460e-01  7.83881992e-02 -6.11975305e-02 -4.44235168e-02\n",
      "  1.21344008e-01  2.60757059e-01 -4.09654863e-02 -1.96294915e-02\n",
      "  1.04899883e-01  1.77777901e-01  9.66938399e-03  4.72821668e-03\n",
      " -3.68953161e-02 -1.09144352e-01  6.88094795e-02 -2.25609858e-02\n",
      " -7.22474083e-02  1.10074483e-01 -1.90958112e-01 -4.47938405e-02\n",
      " -8.42508227e-02  9.60809216e-02  2.90180326e-01  2.40132317e-01\n",
      "  1.37866214e-01 -1.26081452e-01  3.91895212e-02  8.19543973e-02\n",
      " -1.18440345e-01  6.80220202e-02  2.98661608e-02 -6.91042244e-02\n",
      "  7.64491931e-02 -1.56517714e-01  1.08709792e-02 -1.63697675e-02\n",
      " -1.68632939e-01  5.81427738e-02  6.98515447e-03 -6.85040653e-02\n",
      "  5.14830798e-02 -1.09190039e-01 -3.30861174e-02  4.73533683e-02\n",
      " -9.53217074e-02 -5.84498271e-02  2.46374475e-05 -1.66835502e-01\n",
      " -2.96524148e-02 -1.39726415e-01  7.34956563e-02 -2.03445286e-01\n",
      " -2.77229473e-02 -3.71106356e-01 -2.44460851e-01 -1.05146334e-01\n",
      "  1.92761302e-01  1.83457118e-02 -1.02958471e-01 -1.34804651e-01\n",
      " -1.50854662e-01 -1.39787406e-01  1.08618133e-01 -6.58815205e-02\n",
      " -1.69566035e-01  3.73635963e-02  1.02704197e-01 -7.34408945e-02\n",
      " -2.16378555e-01  9.27133262e-02 -8.13423619e-02  3.70765217e-02\n",
      "  3.51517312e-02  4.53301109e-02  1.59803065e-04 -2.26902127e-01\n",
      " -1.32100296e-03 -2.57516094e-02 -1.25068426e-01  2.80246623e-02\n",
      "  6.33899646e-04 -1.63610563e-01  8.39458108e-02  3.08659691e-02\n",
      " -2.16048490e-02  1.07444838e-01  7.32112080e-02 -4.48836759e-03\n",
      "  4.37295437e-02 -1.88029651e-02 -1.99532688e-01 -9.86264646e-02\n",
      "  1.62522987e-01  9.37558636e-02 -2.48676509e-01 -1.26685545e-01\n",
      "  1.19626984e-01  4.85696718e-02  1.08208612e-01 -2.22841829e-01\n",
      " -1.53504252e-01  2.95001343e-02  1.07769951e-01  1.07219882e-01\n",
      " -1.65416002e-01  8.02967176e-02 -1.00750804e-01  4.75034527e-02\n",
      " -2.07658904e-03 -1.38607383e-01  1.53895333e-01  5.10003828e-02\n",
      "  1.54333755e-01  1.62098948e-02 -1.78557783e-01 -3.82715873e-02\n",
      "  6.00163378e-02 -4.59753312e-02 -3.27088870e-02  6.44081039e-03\n",
      " -2.40621734e-02 -5.87682426e-02 -1.85797945e-01  1.64133042e-01\n",
      "  2.32934696e-03  1.15286924e-01  9.28118154e-02  2.36556679e-01\n",
      "  8.25811997e-02  7.31439665e-02  1.61100447e-01  1.81073338e-01\n",
      "  1.90382898e-02 -9.97083411e-02  1.14214987e-01 -3.38226184e-02]\n"
     ]
    }
   ],
   "source": [
    "# YOUR CODE HERE\n",
    "# Learn a new word2vec_2 model trained on X_train,\n",
    "# but with higher dimensionality (e.g. 300) and\n",
    "# verify the results of the previous cells\n",
    "\n",
    "word2vec_2 = Word2Vec(sentences=X_train, vector_size=300)\n",
    "wv_2 = word2vec_2.wv\n",
    "\n",
    "print(wv_2['dog'])\n"
   ]
  },
  {
   "cell_type": "markdown",
   "metadata": {},
   "source": [
    "❓ **Question** ❓ Use the **`Word2Vec.wv.key_to_index`** attribute to display the size of the learned vocabulary. Compare it to the number of different words in `X_train`."
   ]
  },
  {
   "cell_type": "code",
   "execution_count": 24,
   "metadata": {
    "tags": [
     "challengify"
    ]
   },
   "outputs": [
    {
     "name": "stdout",
     "output_type": "stream",
     "text": [
      "1185\n",
      "30419\n",
      "8006\n"
     ]
    }
   ],
   "source": [
    "# YOUR CODE HERE\n",
    "# Use wv_2.key_to_index to get the index of 'dog' and\n",
    "# compare it to number of different words in X_train\n",
    "\n",
    "print(wv_2.key_to_index['dog'])\n",
    "print(len(set([word for sentence in X_train for word in sentence])))\n",
    "print(len(wv_2.key_to_index))\n"
   ]
  },
  {
   "cell_type": "markdown",
   "metadata": {},
   "source": [
    "There is an important difference between the number of words in the train sentences and in the Word2Vec vocabulary, even though it has been trained on the train sentence set. The reasons comes from the second important hyperparameter of Word2Vec:  `min_count`. \n",
    "\n",
    "`min_count` is a integer that tells you how many occurrences a given word should have to be learned in the embedding space. For instance, let's say that the word \"movie\" appears 1000 times in the corpus and \"simba\" only 2 times. If `min_count=3`, the word \"simba\" will be skipped during the training.\n",
    "\n",
    "The intention is to learn a representation of words that are sufficiently present in the corpus to have a robust embedded representation."
   ]
  },
  {
   "cell_type": "markdown",
   "metadata": {},
   "source": [
    "❓ **Question** ❓ Learn a new `word2vec_3` model with a `min_count` higher than 5 (which is the default value) and a `word2vec_4` with a `min_count` smaller than 5, and then, compare the size of the vocabulary for all the different word2vecs that you have trained (you can choose any `vector_size` you want)."
   ]
  },
  {
   "cell_type": "code",
   "execution_count": 42,
   "metadata": {
    "tags": [
     "challengify"
    ]
   },
   "outputs": [
    {
     "name": "stdout",
     "output_type": "stream",
     "text": [
      "8006\n",
      "30419\n"
     ]
    }
   ],
   "source": [
    "# YOUR CODE HERE\n",
    "# Learn a new word2vec_3 model trained on X_train, with a min_count higher than 5 and\n",
    "# a word2vec_4 with a min_count smaller than 5, and\n",
    "# compare the size of the vocabulary of the two models\n",
    "\n",
    "word2vec_3 = Word2Vec(sentences=X_train, min_count=5)\n",
    "wv_3 = word2vec_3.wv\n",
    "\n",
    "word2vec_4 = Word2Vec(sentences=X_train, min_count=1)\n",
    "wv_4 = word2vec_4.wv\n",
    "\n",
    "print(len(wv_3.key_to_index))\n",
    "print(len(wv_4.key_to_index))\n"
   ]
  },
  {
   "cell_type": "markdown",
   "metadata": {},
   "source": [
    "Remember that Word2Vec has an internal neural network that is optimized based on some predictions. These predictions actually correspond to predicting a word based on surrounding words. The surroundings words are in a `window` which corresponds to the number of words taken into account. And you can train the Word2Vec with different `window` sizes."
   ]
  },
  {
   "cell_type": "markdown",
   "metadata": {},
   "source": [
    "❓ **Question** ❓ Train a new `word2vec_5` model with a `window` different than previously (default is 5)."
   ]
  },
  {
   "cell_type": "code",
   "execution_count": 43,
   "metadata": {
    "tags": [
     "challengify"
    ]
   },
   "outputs": [
    {
     "name": "stdout",
     "output_type": "stream",
     "text": [
      "8006\n"
     ]
    }
   ],
   "source": [
    "# YOUR CODE HERE\n",
    "# Learn a new word2vec_5 model trained on X_train, with a window size of 5\n",
    "\n",
    "word2vec_5 = Word2Vec(sentences=X_train, window=5)\n",
    "\n",
    "wv_5 = word2vec_5.wv\n",
    "\n",
    "print(len(wv_5.key_to_index))\n"
   ]
  },
  {
   "cell_type": "markdown",
   "metadata": {},
   "source": [
    "The arguments you have seen (`vector_size`, `min_count` and `window`) are usually the ones that you should start playing with to get a better performance for your model.\n",
    "\n",
    "But you can also look at other arguments in the [**📚 Documentation - gensim.models.word2vec.Text8Corpus**](https://radimrehurek.com/gensim/models/word2vec.html#gensim.models.word2vec.Text8Corpus)"
   ]
  },
  {
   "cell_type": "markdown",
   "metadata": {},
   "source": [
    "# Convert our train and test set to RNN-ready datasets"
   ]
  },
  {
   "cell_type": "markdown",
   "metadata": {},
   "source": [
    "Remember that `Word2Vec` is the first step to the overall process of feeding such a representation into a RNN, as shown here:\n",
    "\n",
    "<img src=\"word2vec_representation.png\" width=\"400px\" />\n",
    "\n",
    "\n",
    "\n",
    "Now, let's work on Step 2 by converting the training and test data into their vector representation to be ready to be fed in RNNs.\n",
    "\n",
    "❓ **Question** ❓ Now, write a function that, given a sentence, returns a matrix that corresponds to the embedding of the full sentence, which means that you have to embed each word one after the other and concatenate the result to output a 2D matrix (make sure that your output is a NumPy array)\n",
    "\n",
    "❗ **Remark** ❗ You will probably notice that some words you are trying to convert throw errors as they are said not to belong to the dictionary:\n",
    "\n",
    "- For the <font color=orange>test</font> set, this is understandable: <font color=orange>some words were not</font> in the <font color=blue>train</font> set and thus, their <font color=orange>embedded representation is unknown</font>\n",
    "- for the <font color=blue>train set</font>, due to `min_count` hyperparameter, not all the words have a vector representation.\n",
    "\n",
    "In any case, just skip the missing words here."
   ]
  },
  {
   "cell_type": "code",
   "execution_count": 44,
   "metadata": {},
   "outputs": [],
   "source": [
    "import numpy as np\n",
    "\n",
    "example = ['this', 'movie', 'is', 'the', 'worst', 'action', 'movie', 'ever']\n",
    "example_missing_words = ['this', 'movie', 'is', 'laaaaaaaaaame']\n",
    "\n",
    "def embed_sentence(word2vec, sentence):\n",
    "    # Given a sentence and a word2vec model, embeds the sentence\n",
    "    # that is embed each word one after the other and returns the\n",
    "    # resulting matrix as 2D numpy array\n",
    "    # If a word is not in the vocabulary, it is skipped\n",
    "\n",
    "    embed = []\n",
    "    for word in sentence:\n",
    "        if word in word2vec.wv:\n",
    "            embed.append(word2vec.wv[word])\n",
    "    return np.array(embed)\n",
    "\n",
    "word2vec = Word2Vec(sentences=X_train)\n",
    "### Checks\n",
    "embedded_sentence = embed_sentence(word2vec, example)\n",
    "assert(type(embedded_sentence) == np.ndarray)\n",
    "assert(embedded_sentence.shape == (8, 100))\n",
    "\n",
    "embedded_sentence_missing_words = embed_sentence(word2vec, example_missing_words)\n",
    "assert(type(embedded_sentence_missing_words) == np.ndarray)\n",
    "assert(embedded_sentence_missing_words.shape == (3, 100))\n"
   ]
  },
  {
   "cell_type": "markdown",
   "metadata": {},
   "source": [
    "❓ **Question** ❓ Write a function that, given a list of sentences (each sentence being a list of words/strings), returns a list of embedded sentences (each sentence is a matrix). Apply this function to the train and test sentences\n",
    "\n",
    "💡 _Hint_: Use the previous function `embed_sentence`"
   ]
  },
  {
   "cell_type": "code",
   "execution_count": 45,
   "metadata": {},
   "outputs": [],
   "source": [
    "def embedding(word2vec, sentences):\n",
    "    # Given a list of sentences, return a list of embedded sentences such that\n",
    "    # each sentence is a matrix\n",
    "    # If a word is not in the vocabulary, it is skipped\n",
    "\n",
    "    return [embed_sentence(word2vec, sentence) for sentence in sentences]\n",
    "\n",
    "\n",
    "X_train = embedding(word2vec, X_train)\n",
    "X_test = embedding(word2vec, X_test)\n"
   ]
  },
  {
   "cell_type": "markdown",
   "metadata": {},
   "source": [
    "❓ **Question** ❓ In order to have ready-to-use data, do not forget to pad your sequences so you have tensors which can be divided into batches (of `batch_size`) during the optimization. Store the padded values in `X_train_pad` and `X_test_pad`. Do not forget the important arguments of the padding ;)"
   ]
  },
  {
   "cell_type": "code",
   "execution_count": 46,
   "metadata": {},
   "outputs": [],
   "source": [
    "### YOUR CODE HERE\n",
    "# Pad the sentences in X_train and X_test to have the same length\n",
    "# (use the pad_sequences function from keras.preprocessing.sequence)\n",
    "\n",
    "from tensorflow.keras.preprocessing.sequence import pad_sequences\n",
    "\n",
    "X_train_pad = pad_sequences(X_train, padding='pre')\n",
    "X_test_pad = pad_sequences(X_test, padding='pre')\n",
    "\n",
    "\n",
    "assert(len(X_train_pad.shape) == 3)\n",
    "assert(len(X_test_pad.shape) == 3)\n",
    "assert(X_train_pad.shape[2] == 100)\n",
    "assert(X_test_pad.shape[2] == 100)\n"
   ]
  },
  {
   "cell_type": "markdown",
   "metadata": {},
   "source": [
    "\n",
    "\n",
    "🏁 Congratulations, you are now able to use `Word2Vec` to embed your words :)\n",
    "\n",
    "💾 Don't forget to git add/commit/push your notebook...\n",
    "\n",
    "🚀 ... and move on to the next challenge!\n"
   ]
  }
 ],
 "metadata": {
  "kernelspec": {
   "display_name": "Python 3",
   "language": "python",
   "name": "python3"
  },
  "language_info": {
   "codemirror_mode": {
    "name": "ipython",
    "version": 3
   },
   "file_extension": ".py",
   "mimetype": "text/x-python",
   "name": "python",
   "nbconvert_exporter": "python",
   "pygments_lexer": "ipython3",
   "version": "3.10.6"
  }
 },
 "nbformat": 4,
 "nbformat_minor": 4
}
